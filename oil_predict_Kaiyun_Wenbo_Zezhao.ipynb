{
 "cells": [
  {
   "cell_type": "markdown",
   "id": "087e05b4",
   "metadata": {},
   "source": [
    "# Predictive project of oil price"
   ]
  },
  {
   "cell_type": "markdown",
   "id": "b9256f90",
   "metadata": {},
   "source": [
    "## ECON 570 Final project \n",
    "### Kaiyuan Chen       ID:2061171566\n",
    "### Wenbo Wang    ID:  4574446397\n",
    "### Zezhao Li    ID:  6020657455"
   ]
  },
  {
   "cell_type": "markdown",
   "id": "c3af1824",
   "metadata": {},
   "source": [
    "## 1.Introduction\n"
   ]
  },
  {
   "cell_type": "markdown",
   "id": "0ee8e0a6",
   "metadata": {},
   "source": [
    "a.The oil price is notorious for its volatility. While shale revolution alleviate the supply concern of the global oil market, the economic policy uncertainty after COVID-19 and Russia-Ukraine war becomes a key factor influencing oil price. In this project we try to deal with the predictive issue of oil price, including the independent variable of both oil market fundamental and economic policy uncertainty."
   ]
  },
  {
   "cell_type": "markdown",
   "id": "d6cacc0c",
   "metadata": {},
   "source": [
    "b.After the financial crisis, profound changes have taken place in the global political and economic pattern. Frictions between major powers in the world have intensified, trade protectionism has risen, and events such as \"Brexit\" and \"Sino-US trade war\" have significantly increased the uncertainty of economic policies and caused a major impact on the international crude oil market. China's economic development has attracted worldwide attention since 2000. Despite the challenges posed by external shocks to China's economic development in recent years, China's GDP has maintained steady growth under the effective government policy regulation. However, China's energy and resource structure is unbalanced and oil and gas resources are relatively scarce. The continuous growth of the national economy has driven up China's demand for crude oil, and China's dependence on crude oil imports has been increasing. Now China has become the world's largest importer of crude oil, and energy security issues are becoming increasingly prominent.\n",
    "\n",
    "\n",
    "In recent years, due to the impact of COVID-19 and the Russia-Ukraine war, the volatility of international crude oil prices has increased significantly. Since the outbreak of the global new crown epidemic, affected by factors such as economic recovery and policy easing, major oil-producing countries have actively or passively cut crude oil production significantly, geopolitical conflicts and other factors, after experiencing a sharp drop in the early stage of the epidemic, the current oil price is likely to have changed from 2014-2014- The low-price equilibrium range in 2020 runs to the high-price equilibrium range. In the absence of a large positive supply shock or negative demand shock, it is expected that oil prices may continue to operate in a high equilibrium range (above $80/barrel) in the next few years.\n",
    "\n",
    "It is very important to study the prediction of oil prices to guarantee China's energy security and end-user hedging.Zhang.et al(2022) proposed that ,from the perspective of linear regression, industry classification, and input-output price model, we analyze the impact of oil prices on domestic CPI. From three perspectives, a 10% increase in crude oil prices (after exchange rate conversion) will have an impact on the PPI of about 0.35-0.7 percentage points."
   ]
  },
  {
   "cell_type": "markdown",
   "id": "a1edf6ef",
   "metadata": {},
   "source": [
    "c.The EPU index constructed by Baker et al. (2016) provides a measure of economic policy uncertainty. Since international crude oil prices are closely related to the macro economy (Kilian, 2009; Kilian and Murphy, 2014), some scholars use this index to study the relationship between economic policy uncertainty and international oil prices. Kang and Ratti (2013) analyzed the response of us economic policy uncertainty to international crude oil supply, real demand and speculative demand. The paper found that the increase of speculative demand for crude oil would lead to the increase of US economic policy uncertainty, and the positive impact of real demand for crude oil would reduce the uncertainty of US economic policy. But oil supply shocks have no significant impact on us economic policy uncertainty. Bekiros et al. (2015) pointed out that the fluctuation of crude oil price affects the economic growth and inflation in the United States, so the prediction of crude oil price is very important. In this paper, different time series models are used to analyze the impact of economic policy uncertainty on international oil prices, and the conclusion is that TVP-VAR model has the best prediction effect, and it is proved that the information of economic policy uncertainty is helpful for oil price prediction. Aloui (2016) used Copula to study the relationship between economic policy uncertainty and international oil price return rate, and used rolling window regression method to analyze the dynamic impact of stock market and economic policy uncertainty on oil price return rate. "
   ]
  },
  {
   "cell_type": "markdown",
   "id": "3ab1f432",
   "metadata": {},
   "source": [
    "## 2.Data"
   ]
  },
  {
   "cell_type": "markdown",
   "id": "d574ead8",
   "metadata": {},
   "source": [
    "a.In this project we use four datasets for the modelling. We use Brent spot price to represent global oil price, sourcing from EIA. With regard to oil fundamental data, we acquire global oil supply data from Rifinitive, and we use Kilian’s shipping index (GBC) to quantify global business cycle, which is widely used in the literature. As for economic policy uncertainty data, it’s can be found on the website http://policyuncertainty.com/global_monthly.html."
   ]
  },
  {
   "cell_type": "markdown",
   "id": "233efe85",
   "metadata": {},
   "source": [
    "b.As complying with EPU data time series, we limit the sample to start on Jan 1997."
   ]
  },
  {
   "cell_type": "markdown",
   "id": "f946dab0",
   "metadata": {},
   "source": [
    "c.We merge the four datasets into an integrated oil market data, the time span is from Jan 1997 to Dec 2021. Then we research on the summary statistics."
   ]
  },
  {
   "cell_type": "code",
   "execution_count": 1,
   "id": "ebe3d4c3",
   "metadata": {},
   "outputs": [
    {
     "ename": "FileNotFoundError",
     "evalue": "[WinError 3] 系统找不到指定的路径。: 'C:\\\\Users\\\\Administrator\\\\Desktop\\\\homework'",
     "output_type": "error",
     "traceback": [
      "\u001b[1;31m---------------------------------------------------------------------------\u001b[0m",
      "\u001b[1;31mFileNotFoundError\u001b[0m                         Traceback (most recent call last)",
      "\u001b[1;32m~\\AppData\\Local\\Temp/ipykernel_2312/483160351.py\u001b[0m in \u001b[0;36m<module>\u001b[1;34m\u001b[0m\n\u001b[0;32m      9\u001b[0m \u001b[1;33m\u001b[0m\u001b[0m\n\u001b[0;32m     10\u001b[0m \u001b[1;33m\u001b[0m\u001b[0m\n\u001b[1;32m---> 11\u001b[1;33m \u001b[0mos\u001b[0m\u001b[1;33m.\u001b[0m\u001b[0mchdir\u001b[0m\u001b[1;33m(\u001b[0m\u001b[1;34mr'C:\\Users\\Administrator\\Desktop\\homework'\u001b[0m\u001b[1;33m)\u001b[0m\u001b[1;33m\u001b[0m\u001b[1;33m\u001b[0m\u001b[0m\n\u001b[0m",
      "\u001b[1;31mFileNotFoundError\u001b[0m: [WinError 3] 系统找不到指定的路径。: 'C:\\\\Users\\\\Administrator\\\\Desktop\\\\homework'"
     ]
    }
   ],
   "source": [
    "import os\n",
    "import numpy as np\n",
    "import pandas as pd\n",
    "from sklearn import svm\n",
    "import matplotlib.pyplot as plt\n",
    "import math\n",
    "import seaborn as sns\n",
    "from sklearn import metrics\n",
    "\n",
    "\n",
    "os.chdir(r'C:\\Users\\Administrator\\Desktop\\homework')\n"
   ]
  },
  {
   "cell_type": "code",
   "execution_count": null,
   "id": "53d80abc",
   "metadata": {},
   "outputs": [],
   "source": [
    "#Data preprocessing\n",
    "\n",
    "#EPU\n",
    "\n",
    "epu = pd.read_excel('epu.xlsx')\n",
    "epu['Date'] = pd.date_range(start='1997-01-31',end='2022-02-28',freq='M') #normalize time labels\n",
    "epu = epu[['Date','epu']]\n",
    "epu"
   ]
  },
  {
   "cell_type": "code",
   "execution_count": null,
   "id": "220667b5",
   "metadata": {},
   "outputs": [],
   "source": [
    "#supply\n",
    "\n",
    "supply = pd.read_csv('supply.csv',parse_dates=['Date'])\n",
    "# supply['supply'] = supply['supply'].apply(lambda x:math.log(x))\n",
    "# supply['supply'] = supply['supply'].diff()\n",
    "supply = supply.sort_values(ascending=True,by='Date') #Change sequence\n",
    "supply['Date'] = pd.to_datetime(supply['Date']) #Change time format\n",
    "supply"
   ]
  },
  {
   "cell_type": "code",
   "execution_count": null,
   "id": "607b0b48",
   "metadata": {},
   "outputs": [],
   "source": [
    "#gbc\n",
    "\n",
    "gbc = pd.read_excel('rea.xlsx',parse_dates=['Date'])\n",
    "gbc['Date'] = pd.date_range(start='1968-01-31',end='2021-12-31',freq='M')\n",
    "gbc"
   ]
  },
  {
   "cell_type": "code",
   "execution_count": null,
   "id": "993760e3",
   "metadata": {},
   "outputs": [],
   "source": [
    "#oil\n",
    "\n",
    "oil = pd.read_excel('oil.xls',sheet_name='Data 1',header=2)\n",
    "oil['Date'] = pd.date_range(start='1987-05-31',end='2022-03-31',freq='M')\n",
    "oil.columns = ['Date','oil']\n",
    "# oil['oil'] = oil['oil'].apply(lambda x:math.log(x))\n",
    "# oil['oil'] = oil['oil'].diff()\n",
    "oil"
   ]
  },
  {
   "cell_type": "code",
   "execution_count": null,
   "id": "b7fc3de1",
   "metadata": {},
   "outputs": [],
   "source": [
    "#Merge data\n",
    "\n",
    "data = pd.merge(oil,supply,on='Date')\n",
    "data = pd.merge(data,gbc,on='Date')\n",
    "data = pd.merge(data,epu,on='Date')\n",
    "data"
   ]
  },
  {
   "cell_type": "markdown",
   "id": "03d85484",
   "metadata": {},
   "source": [
    "d.The average oil price from 1997 to 2021 is 58 dollar per barrel, so the current above 100 dollar oil price is largely higher than the historical price. The average EPU value in the past 15 years is 130, however its maximum value once reached 430, indicating there’s lots of variance in economic policy from 1997 to 2021."
   ]
  },
  {
   "cell_type": "code",
   "execution_count": null,
   "id": "01f4e2d3",
   "metadata": {},
   "outputs": [],
   "source": [
    "#Descriptive characters\n",
    "\n",
    "data.describe()"
   ]
  },
  {
   "cell_type": "markdown",
   "id": "bfb20a5e",
   "metadata": {},
   "source": [
    "We also construct the correlation matrix to infer the causal relationship of oil price. As we can see from figure 1, oil price seems to be closely correlated with oil supply ,while EPU and GBC rank the second and the third place."
   ]
  },
  {
   "cell_type": "code",
   "execution_count": null,
   "id": "91203da0",
   "metadata": {},
   "outputs": [],
   "source": [
    "#Correlations\n",
    "\n",
    "# data.corr()\n",
    "sns.heatmap(data.corr())"
   ]
  },
  {
   "cell_type": "code",
   "execution_count": null,
   "id": "85f3d8ee",
   "metadata": {},
   "outputs": [],
   "source": [
    "data.corr()"
   ]
  },
  {
   "cell_type": "markdown",
   "id": "ac5389fc",
   "metadata": {},
   "source": [
    "# 3.Modeling"
   ]
  },
  {
   "attachments": {
    "1027fcb7db2c60cb57a9a32d7fcfcdb.jpg": {
     "image/jpeg": "[encoded data removed]"
    }
   },
   "cell_type": "markdown",
   "id": "ca4c452a",
   "metadata": {},
   "source": [
    "a.Hamilton indicated the relationship between macroeconomy and oil price is nonlinear. Traditionally the researchers mostly use time series models to predict oil price, however much structure in time series model is linear. In this study we resort to support vector machine regression model for the oil price prediction issue.\n",
    "Support vector machines can be used for regression problems, namely, Support vector machine regression (SVR). Support vector machine (SVM), based on VC dimension theory and structural risk minimization principle, was initially used to solve the problem of binary classification (support vector machine classification), and later extended to solve the problem of function approximation, namely support vector regression (SVR). In general, the kernel technique can be used to transform the nonlinear sample set as input into higher dimensional space to improve sample separation. This project uses SVR algorithm for modeling prediction.\n",
    "As mentioned before, we use supply,GBC and EPU in oil market as independent variables, and oil price is the predictive variable. We divide the samples into 70 % training sets and 30% test set, then we use support vector model in Python to predict oil price. Finally, we apply RMSE to validate the result. ![1027fcb7db2c60cb57a9a32d7fcfcdb.jpg](attachment:1027fcb7db2c60cb57a9a32d7fcfcdb.jpg)\n",
    "\n"
   ]
  },
  {
   "cell_type": "markdown",
   "id": "0b257509",
   "metadata": {},
   "source": [
    "Compared with linear regression, support vector regression means that the prediction is correct as long as the value inside the dotted line is calculated, and the loss of the value outside the dotted line is calculated. Considering the situation of linear inseparability in SVM, the optimization problem of support vector machine regression is finally obtained by introducing relaxation variables"
   ]
  },
  {
   "attachments": {
    "image.png": {
     "image/png": "[encoded data removed]"
    }
   },
   "cell_type": "markdown",
   "id": "efbccd8c",
   "metadata": {},
   "source": [
    "![image.png](attachment:image.png)"
   ]
  },
  {
   "cell_type": "code",
   "execution_count": null,
   "id": "9fd599bd",
   "metadata": {},
   "outputs": [],
   "source": [
    "#SVR predict\n",
    "\n",
    "X = data.drop(['Date','oil'],axis=1)\n",
    "Y = data['oil']"
   ]
  },
  {
   "cell_type": "code",
   "execution_count": null,
   "id": "f4f7d88c",
   "metadata": {},
   "outputs": [],
   "source": [
    "#Train,test group\n",
    "\n",
    "X_train = X[:210]\n",
    "X_test = X[210:]\n",
    "Y_train = Y[:210]\n",
    "Y_test = Y[210:]"
   ]
  },
  {
   "cell_type": "code",
   "execution_count": null,
   "id": "75c44fe6",
   "metadata": {},
   "outputs": [],
   "source": [
    "#Train SVR\n",
    "\n",
    "svr_model = svm.SVR(kernel='poly')\n",
    "svr_model.fit(X_train,Y_train)\n",
    "confidence = svr_model.score(X_train,Y_train)\n",
    "print(confidence)"
   ]
  },
  {
   "cell_type": "markdown",
   "id": "697797ae",
   "metadata": {},
   "source": [
    "# 4.Findings"
   ]
  },
  {
   "cell_type": "markdown",
   "id": "4ee3a0a9",
   "metadata": {},
   "source": [
    "a.For the base model analysis, we conclude that the RMSE value is 89. This result is somewaht large, indicating the model design could be upgated to make a better RMSE outcome. We again check on the oil price literature, and we find the oil price theory admit that there's reverse causality in oil price modeling. That is, the macroeconomic variable can lead to the change of oil price, while it's possible oil price can affect macroeconomy. Specifically, for EPU variable, Kang(2013) showed it's basically that oil price impact EPU.\n"
   ]
  },
  {
   "cell_type": "markdown",
   "id": "2ef63921",
   "metadata": {},
   "source": [
    "b.In the second step as a robustness check, we drop EPU variable and get the new SVR RMSE result, which is 18. This result porves that complicated models are not necessarily better that simple models."
   ]
  },
  {
   "cell_type": "code",
   "execution_count": 2,
   "id": "03c076eb",
   "metadata": {},
   "outputs": [
    {
     "ename": "NameError",
     "evalue": "name 'svr_model' is not defined",
     "output_type": "error",
     "traceback": [
      "\u001b[1;31m---------------------------------------------------------------------------\u001b[0m",
      "\u001b[1;31mNameError\u001b[0m                                 Traceback (most recent call last)",
      "\u001b[1;32m~\\AppData\\Local\\Temp/ipykernel_2312/3425544927.py\u001b[0m in \u001b[0;36m<module>\u001b[1;34m\u001b[0m\n\u001b[0;32m      1\u001b[0m \u001b[1;31m#Predict value\u001b[0m\u001b[1;33m\u001b[0m\u001b[1;33m\u001b[0m\u001b[0m\n\u001b[0;32m      2\u001b[0m \u001b[1;33m\u001b[0m\u001b[0m\n\u001b[1;32m----> 3\u001b[1;33m \u001b[0mY_pred\u001b[0m \u001b[1;33m=\u001b[0m \u001b[0msvr_model\u001b[0m\u001b[1;33m.\u001b[0m\u001b[0mpredict\u001b[0m\u001b[1;33m(\u001b[0m\u001b[0mX_test\u001b[0m\u001b[1;33m)\u001b[0m\u001b[1;33m\u001b[0m\u001b[1;33m\u001b[0m\u001b[0m\n\u001b[0m",
      "\u001b[1;31mNameError\u001b[0m: name 'svr_model' is not defined"
     ]
    }
   ],
   "source": [
    "#Predict value\n",
    "\n",
    "Y_pred = svr_model.predict(X_test)"
   ]
  },
  {
   "cell_type": "code",
   "execution_count": 3,
   "id": "bbda83ea",
   "metadata": {},
   "outputs": [
    {
     "ename": "NameError",
     "evalue": "name 'Y_test' is not defined",
     "output_type": "error",
     "traceback": [
      "\u001b[1;31m---------------------------------------------------------------------------\u001b[0m",
      "\u001b[1;31mNameError\u001b[0m                                 Traceback (most recent call last)",
      "\u001b[1;32m~\\AppData\\Local\\Temp/ipykernel_2312/3330631231.py\u001b[0m in \u001b[0;36m<module>\u001b[1;34m\u001b[0m\n\u001b[0;32m      1\u001b[0m \u001b[1;31m#MSE value\u001b[0m\u001b[1;33m\u001b[0m\u001b[1;33m\u001b[0m\u001b[0m\n\u001b[0;32m      2\u001b[0m \u001b[1;33m\u001b[0m\u001b[0m\n\u001b[1;32m----> 3\u001b[1;33m \u001b[0mprint\u001b[0m\u001b[1;33m(\u001b[0m\u001b[0mmath\u001b[0m\u001b[1;33m.\u001b[0m\u001b[0msqrt\u001b[0m\u001b[1;33m(\u001b[0m\u001b[0mmetrics\u001b[0m\u001b[1;33m.\u001b[0m\u001b[0mmean_squared_error\u001b[0m\u001b[1;33m(\u001b[0m\u001b[0mnp\u001b[0m\u001b[1;33m.\u001b[0m\u001b[0marray\u001b[0m\u001b[1;33m(\u001b[0m\u001b[0mY_test\u001b[0m\u001b[1;33m)\u001b[0m\u001b[1;33m,\u001b[0m\u001b[0mY_pred\u001b[0m\u001b[1;33m)\u001b[0m\u001b[1;33m)\u001b[0m\u001b[1;33m)\u001b[0m\u001b[1;33m\u001b[0m\u001b[1;33m\u001b[0m\u001b[0m\n\u001b[0m",
      "\u001b[1;31mNameError\u001b[0m: name 'Y_test' is not defined"
     ]
    }
   ],
   "source": [
    "#MSE value\n",
    "\n",
    "print(math.sqrt(metrics.mean_squared_error(np.array(Y_test),Y_pred)))"
   ]
  },
  {
   "cell_type": "code",
   "execution_count": 4,
   "id": "3253e0a7",
   "metadata": {},
   "outputs": [
    {
     "ename": "NameError",
     "evalue": "name 'data' is not defined",
     "output_type": "error",
     "traceback": [
      "\u001b[1;31m---------------------------------------------------------------------------\u001b[0m",
      "\u001b[1;31mNameError\u001b[0m                                 Traceback (most recent call last)",
      "\u001b[1;32m~\\AppData\\Local\\Temp/ipykernel_2312/2890445162.py\u001b[0m in \u001b[0;36m<module>\u001b[1;34m\u001b[0m\n\u001b[1;32m----> 1\u001b[1;33m \u001b[0mX\u001b[0m \u001b[1;33m=\u001b[0m \u001b[0mdata\u001b[0m\u001b[1;33m.\u001b[0m\u001b[0mdrop\u001b[0m\u001b[1;33m(\u001b[0m\u001b[1;33m[\u001b[0m\u001b[1;34m'Date'\u001b[0m\u001b[1;33m,\u001b[0m\u001b[1;34m'oil'\u001b[0m\u001b[1;33m,\u001b[0m\u001b[1;34m'epu'\u001b[0m\u001b[1;33m]\u001b[0m\u001b[1;33m,\u001b[0m\u001b[0maxis\u001b[0m\u001b[1;33m=\u001b[0m\u001b[1;36m1\u001b[0m\u001b[1;33m)\u001b[0m\u001b[1;33m\u001b[0m\u001b[1;33m\u001b[0m\u001b[0m\n\u001b[0m\u001b[0;32m      2\u001b[0m \u001b[0mY\u001b[0m \u001b[1;33m=\u001b[0m \u001b[0mdata\u001b[0m\u001b[1;33m[\u001b[0m\u001b[1;34m'oil'\u001b[0m\u001b[1;33m]\u001b[0m\u001b[1;33m\u001b[0m\u001b[1;33m\u001b[0m\u001b[0m\n\u001b[0;32m      3\u001b[0m \u001b[1;33m\u001b[0m\u001b[0m\n\u001b[0;32m      4\u001b[0m \u001b[0mX_train\u001b[0m \u001b[1;33m=\u001b[0m \u001b[0mX\u001b[0m\u001b[1;33m[\u001b[0m\u001b[1;33m:\u001b[0m\u001b[1;36m210\u001b[0m\u001b[1;33m]\u001b[0m\u001b[1;33m\u001b[0m\u001b[1;33m\u001b[0m\u001b[0m\n\u001b[0;32m      5\u001b[0m \u001b[0mX_test\u001b[0m \u001b[1;33m=\u001b[0m \u001b[0mX\u001b[0m\u001b[1;33m[\u001b[0m\u001b[1;36m210\u001b[0m\u001b[1;33m:\u001b[0m\u001b[1;33m]\u001b[0m\u001b[1;33m\u001b[0m\u001b[1;33m\u001b[0m\u001b[0m\n",
      "\u001b[1;31mNameError\u001b[0m: name 'data' is not defined"
     ]
    }
   ],
   "source": [
    "X = data.drop(['Date','oil','epu'],axis=1)\n",
    "Y = data['oil']\n",
    "\n",
    "X_train = X[:210]\n",
    "X_test = X[210:]\n",
    "Y_train = Y[:210]\n",
    "Y_test = Y[210:]"
   ]
  },
  {
   "cell_type": "code",
   "execution_count": 5,
   "id": "f2b4a996",
   "metadata": {},
   "outputs": [
    {
     "ename": "NameError",
     "evalue": "name 'X_train' is not defined",
     "output_type": "error",
     "traceback": [
      "\u001b[1;31m---------------------------------------------------------------------------\u001b[0m",
      "\u001b[1;31mNameError\u001b[0m                                 Traceback (most recent call last)",
      "\u001b[1;32m~\\AppData\\Local\\Temp/ipykernel_2312/1549985858.py\u001b[0m in \u001b[0;36m<module>\u001b[1;34m\u001b[0m\n\u001b[0;32m      2\u001b[0m \u001b[1;33m\u001b[0m\u001b[0m\n\u001b[0;32m      3\u001b[0m \u001b[0msvr_model\u001b[0m \u001b[1;33m=\u001b[0m \u001b[0msvm\u001b[0m\u001b[1;33m.\u001b[0m\u001b[0mSVR\u001b[0m\u001b[1;33m(\u001b[0m\u001b[0mkernel\u001b[0m\u001b[1;33m=\u001b[0m\u001b[1;34m'poly'\u001b[0m\u001b[1;33m)\u001b[0m\u001b[1;33m\u001b[0m\u001b[1;33m\u001b[0m\u001b[0m\n\u001b[1;32m----> 4\u001b[1;33m \u001b[0msvr_model\u001b[0m\u001b[1;33m.\u001b[0m\u001b[0mfit\u001b[0m\u001b[1;33m(\u001b[0m\u001b[0mX_train\u001b[0m\u001b[1;33m,\u001b[0m\u001b[0mY_train\u001b[0m\u001b[1;33m)\u001b[0m\u001b[1;33m\u001b[0m\u001b[1;33m\u001b[0m\u001b[0m\n\u001b[0m\u001b[0;32m      5\u001b[0m \u001b[0mconfidence\u001b[0m \u001b[1;33m=\u001b[0m \u001b[0msvr_model\u001b[0m\u001b[1;33m.\u001b[0m\u001b[0mscore\u001b[0m\u001b[1;33m(\u001b[0m\u001b[0mX_train\u001b[0m\u001b[1;33m,\u001b[0m\u001b[0mY_train\u001b[0m\u001b[1;33m)\u001b[0m\u001b[1;33m\u001b[0m\u001b[1;33m\u001b[0m\u001b[0m\n\u001b[0;32m      6\u001b[0m \u001b[1;33m\u001b[0m\u001b[0m\n",
      "\u001b[1;31mNameError\u001b[0m: name 'X_train' is not defined"
     ]
    }
   ],
   "source": [
    "#Train SVR\n",
    "\n",
    "svr_model = svm.SVR(kernel='poly')\n",
    "svr_model.fit(X_train,Y_train)\n",
    "confidence = svr_model.score(X_train,Y_train)\n",
    "\n",
    "print(confidence)\n",
    "\n",
    "#Predict value\n",
    "\n",
    "Y_pred = svr_model.predict(X_test)\n",
    "\n",
    "#MSE value\n",
    "\n",
    "print(math.sqrt(metrics.mean_squared_error(np.array(Y_test),Y_pred)))"
   ]
  },
  {
   "cell_type": "markdown",
   "id": "da36662a",
   "metadata": {},
   "source": [
    "# 5. Conclusions"
   ]
  },
  {
   "cell_type": "markdown",
   "id": "e600adc8",
   "metadata": {},
   "source": [
    "a. In this paper, we use the machine learning method of support vector machine to explore the oil price prediction problem. On the one hand, there is a certain mean square error between the predicted value and the real value of the fitted model, indicating that the factors determining the international crude oil price are complex and there may be missing variables in the model. On the other hand, when we remove the uncertainty of economic policy from the model, the mean square error obtained by using only the supply and demand variable of oil price is smaller. This suggests that it’s not always the case more complex model is better, and we find that economic policy uncertainty is not the core variable affecting oil prices. "
   ]
  },
  {
   "cell_type": "markdown",
   "id": "7a924870",
   "metadata": {},
   "source": [
    "b. In future studies, we will further clarify the theory of oil price determination and establish a more effective oil price prediction model."
   ]
  },
  {
   "cell_type": "markdown",
   "id": "a3da49c0",
   "metadata": {},
   "source": [
    "# 6.Reference"
   ]
  },
  {
   "cell_type": "markdown",
   "id": "1490f4e2",
   "metadata": {},
   "source": [
    "[1]\tAloui, Riadh & Gupta, Rangan & Miller, Stephen M., 2016. \"Uncertainty and crude oil returns,\" Energy Economics, Elsevier, vol. 55(C), pages 92-100.[1]\tAloui, Riadh & Gupta, Rangan & Miller, Stephen M., 2016. \"Uncertainty and crude oil returns,\" Energy Economics, Elsevier, vol. 55(C), pages 92-100.<br /> \n",
    "[2]\tBaker, Scott R., Nicholas Bloom, and Steven J. Davis. 2016. “Measuring Economic Policy Uncertainty.” [J]Quarterly Journal of Economics 131 (4): 1593–636.<br /> \n",
    "[3]\tBaumeister, Christiane and Gert Peersman (2013). “The Role of Time-Varying Price Elasticities in Accounting for Volatility Changes in the Crude Oil Market.” [J]Journal of Applied Econometrics<br /> \n",
    "[4]\tEl Montasser, G., Aggad, K., Clark, L., Gupta, R., Kemp, S., 2014. Causal link between oil price and uncertainty in India. Working Paper No. 201467. University of Pretoria, Department of Economics.<br /> \n",
    "[5]\tElliot, G., T.J., Rothenberg, J.H., Stock, 1996. Efficient tests for an autoregressive unit root.Econometrica 64, 813–836.<br /> \n",
    "[6]\tHamilton, J.D., 2013. Historical Oil Shocks. In: Parker, Randall E., Whaples, Robert (Eds.),<br /> \n",
    "[7]\tHamilton, James D., and J. Cynthia Wu. 2014. Risk premia in crude oil futures prices. [J]Journal of International Money and Finance 42: 9-37.<br /> \n",
    "[8]\tKang, W., Ratti, R.A., Vespignani, J.L., 2017. Oil price shocks and policy uncertainty: new evidence on the effects of US and non-US oil production. Energy Econ. 66, 536–546.<br /> \n",
    "[9]\tStelios Bekiros & Rangan Gupta & Alessia Paccagnini, 2015. \"Oil Price Forecastability and Economic Uncertainty,\" Working Papers 298, University of Milano-Bicocca, Department of Economics, revised Apr 2015.<br /> \n",
    "[10]\tYu, J., and Y. Yuan. 2011. Investor sentiment and the mean-variance relation. Journal of Financial Economics 100: 367–381.<br /> \n",
    "[11]\tYu, L., Wang, S., Lai, K.K., 2008. Forecasting crude oil price with an EMD-based neural network ensemble learning paradigm. Energy Econ. 30 (5), 2623–2635.<br /> \n",
    "[12]\tZagaglia, P., 2010. Macroeconomic factors and oil futures prices: a data-rich model.<br /> \n",
    "[13]\tZeng, Ka. 2003. Trade Threats, Trade Wars: Bargaining, Retaliation, and American Coercive Diplomacy.Ann Arbor, [J]MI: University of Michigan Press.<br /> \n",
    "[14]\tZhang, J.L., Zhang, Y.J., Zhang, L., 2015. A novel hybrid method for crude oil price forecasting. Energy Econ. 49, 649–659.<br /> \n",
    "[15]\tZheng Tracy Ke, Bryan T. Kelly, Dacheng Xiu(2019) “Predicting Returns With Text Data” [J]NBER working paper<br /> \n",
    "[16]   Zhang, Yu, and Chunsheng Fu. 2022. “An Article Explaining the Impact of Rising Oil Prices on Domestic Inflation - Solving the Case ‘Steady Growth’ Series Eleven.”\n"
   ]
  },
  {
   "cell_type": "markdown",
   "id": "4861160f",
   "metadata": {},
   "source": []
  },
  {
   "cell_type": "code",
   "execution_count": null,
   "id": "b15b9485",
   "metadata": {},
   "outputs": [],
   "source": []
  }
 ],
 "metadata": {
  "kernelspec": {
   "display_name": "Python 3 (ipykernel)",
   "language": "python",
   "name": "python3"
  },
  "language_info": {
   "codemirror_mode": {
    "name": "ipython",
    "version": 3
   },
   "file_extension": ".py",
   "mimetype": "text/x-python",
   "name": "python",
   "nbconvert_exporter": "python",
   "pygments_lexer": "ipython3",
   "version": "3.9.7"
  }
 },
 "nbformat": 4,
 "nbformat_minor": 5
}
